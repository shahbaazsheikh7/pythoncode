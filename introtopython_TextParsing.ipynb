{
 "cells": [
  {
   "cell_type": "markdown",
   "metadata": {},
   "source": [
    "# Most Used words"
   ]
  },
  {
   "cell_type": "code",
   "execution_count": 1,
   "metadata": {},
   "outputs": [
    {
     "name": "stdout",
     "output_type": "stream",
     "text": [
      "Enter the filename: davincicode.txt\n",
      "The 10 most used words in davincicode.txt are\n",
      "the 10852\n",
      "of 3805\n",
      "to 3273\n",
      "a 3161\n",
      "and 2779\n",
      "in 1953\n",
      "was 1876\n",
      "he 1811\n",
      "his 1511\n",
      "langdon 1454\n"
     ]
    },
    {
     "data": {
      "image/png": "[encoded data removed]",
      "text/plain": [
       "<Figure size 432x288 with 1 Axes>"
      ]
     },
     "metadata": {
      "needs_background": "light"
     },
     "output_type": "display_data"
    }
   ],
   "source": [
    "import string\n",
    "import matplotlib.pyplot as plt\n",
    "%matplotlib inline \n",
    "fname= input(\"Enter the filename: \")\n",
    "fhand = open(fname)\n",
    "counts = {}\n",
    "for line in fhand:\n",
    "    line = line.translate(str.maketrans('','',string.punctuation))\n",
    "    line = line.lower()\n",
    "    line = line.strip()\n",
    "    words = line.split()\n",
    "    if len(words)==0 or words[0]==\"From\":\n",
    "        continue\n",
    "    for word in words:\n",
    "        counts[word] = counts.get(word,0) + 1\n",
    "\n",
    "wordlist = []\n",
    "\n",
    "for word,count in counts.items():\n",
    "    wordlist.append((count,word))\n",
    "    \n",
    "wordlist.sort(reverse=True)\n",
    "print(\"The 10 most used words in %s are\"%fname)\n",
    "\n",
    "word_list = []\n",
    "count_list = []\n",
    "\n",
    "for count,word in wordlist[:10]:\n",
    "    print(word,count)\n",
    "    word_list.append(word)\n",
    "    count_list.append(count)\n",
    "    \n",
    "plt.xlabel(\"Words\",color=\"Green\")\n",
    "plt.ylabel(\"Number of Occurences\",color=\"Green\")\n",
    "plt.title(\"Top 10 most used words in '%s'\"%fname,color=\"Green\")\n",
    "plt.bar(word_list,count_list)\n",
    "plt.show() "
   ]
  },
  {
   "cell_type": "markdown",
   "metadata": {},
   "source": [
    "# Letter frequency"
   ]
  },
  {
   "cell_type": "code",
   "execution_count": 2,
   "metadata": {},
   "outputs": [
    {
     "name": "stdout",
     "output_type": "stream",
     "text": [
      "Enter the filename: davincicode.txt\n",
      "The frequency of letters in 'davincicode.txt' is:\n",
      "a 53994\n",
      "b 9608\n",
      "c 19767\n",
      "d 32637\n",
      "e 84824\n",
      "f 13174\n",
      "g 17278\n",
      "h 41539\n",
      "i 47255\n",
      "j 1256\n",
      "k 5703\n",
      "l 28890\n",
      "m 15629\n",
      "n 47746\n",
      "o 50336\n",
      "p 13647\n",
      "q 616\n",
      "r 37832\n",
      "s 40854\n",
      "t 59383\n",
      "u 17466\n",
      "v 7013\n",
      "w 15051\n",
      "x 1235\n",
      "y 12407\n",
      "z 638\n"
     ]
    },
    {
     "data": {
      "image/png": "[encoded data removed]",
      "text/plain": [
       "<Figure size 432x288 with 1 Axes>"
      ]
     },
     "metadata": {
      "needs_background": "light"
     },
     "output_type": "display_data"
    }
   ],
   "source": [
    "import string\n",
    "import matplotlib.pyplot as plt\n",
    "%matplotlib inline\n",
    "\n",
    "fname = input(\"Enter the filename: \")\n",
    "fhand = open(fname)\n",
    "\n",
    "alpha_dict = {}\n",
    "\n",
    "for line in fhand:\n",
    "    line = line.translate(str.maketrans(\"\",\"\",string.punctuation))\n",
    "    line = line.lower()\n",
    "    words = line.split()\n",
    "    if len(words) == 0:\n",
    "        continue\n",
    "    \n",
    "    for word in words:\n",
    "        letters = str(word)\n",
    "        for letter in letters:\n",
    "            if letter >= 'a' and letter <= 'z':\n",
    "                alpha_dict[letter] = alpha_dict.get(letter,0) + 1\n",
    "\n",
    "letterlist = list()\n",
    "for letter,count in alpha_dict.items():\n",
    "    letterlist.append((letter,count))\n",
    "\n",
    "letterlist.sort()\n",
    "\n",
    "let_list = []\n",
    "cnt_list = []\n",
    "\n",
    "print(\"The frequency of letters in '%s' is:\"%fname)\n",
    "\n",
    "for letter,count in letterlist:\n",
    "    print(letter,count)\n",
    "    let_list.append(letter)\n",
    "    cnt_list.append(count)\n",
    "    \n",
    "plt.xlabel(\"Letters\",color = \"Green\")\n",
    "plt.ylabel(\"Frequency\",color = \"Green\")\n",
    "plt.title(\"The frequency of letters in '%s' is:\"%fname,color = \"Green\")\n",
    "plt.bar(let_list,cnt_list)\n",
    "plt.show()"
   ]
  },
  {
   "cell_type": "code",
   "execution_count": null,
   "metadata": {},
   "outputs": [],
   "source": []
  }
 ],
 "metadata": {
  "kernelspec": {
   "display_name": "Python 3",
   "language": "python",
   "name": "python3"
  },
  "language_info": {
   "codemirror_mode": {
    "name": "ipython",
    "version": 3
   },
   "file_extension": ".py",
   "mimetype": "text/x-python",
   "name": "python",
   "nbconvert_exporter": "python",
   "pygments_lexer": "ipython3",
   "version": "3.6.4"
  }
 },
 "nbformat": 4,
 "nbformat_minor": 2
}
